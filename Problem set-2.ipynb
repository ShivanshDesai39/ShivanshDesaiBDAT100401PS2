{
 "cells": [
  {
   "cell_type": "markdown",
   "metadata": {},
   "source": [
    "# Problem Set-2"
   ]
  },
  {
   "cell_type": "markdown",
   "metadata": {},
   "source": [
    "### \\*Answer-1\\*"
   ]
  },
  {
   "cell_type": "code",
   "execution_count": 3,
   "metadata": {},
   "outputs": [],
   "source": [
    "a = 0                      # This has a global scope\n",
    "def b():\n",
    "    global a               # All reference to a in b() are to the global a\n",
    "    a = c(a)               # This a has global scope\n",
    "def c(a):\n",
    "    return a + 2           # This a is global a"
   ]
  },
  {
   "cell_type": "code",
   "execution_count": 4,
   "metadata": {},
   "outputs": [],
   "source": [
    ">>> b()"
   ]
  },
  {
   "cell_type": "code",
   "execution_count": 5,
   "metadata": {},
   "outputs": [],
   "source": [
    ">>> b()"
   ]
  },
  {
   "cell_type": "code",
   "execution_count": 6,
   "metadata": {},
   "outputs": [],
   "source": [
    ">>> b()"
   ]
  },
  {
   "cell_type": "code",
   "execution_count": 7,
   "metadata": {},
   "outputs": [
    {
     "data": {
      "text/plain": [
       "6"
      ]
     },
     "execution_count": 7,
     "metadata": {},
     "output_type": "execute_result"
    }
   ],
   "source": [
    ">>> a"
   ]
  },
  {
   "cell_type": "markdown",
   "metadata": {},
   "source": [
    "###### Here, a is a global variable. \">>> b()\" is just for updating the value of \"a\". While \"b\" is called 3 times for the first it will add 2 into 0 then for 2nd time another 2 in it and finally 3rd time so answer here will be 6. "
   ]
  },
  {
   "cell_type": "markdown",
   "metadata": {},
   "source": [
    "### \\*Answer-2\\*"
   ]
  },
  {
   "cell_type": "code",
   "execution_count": 31,
   "metadata": {},
   "outputs": [],
   "source": [
    "def file_length(file_name):\n",
    "    'Function to write friendly message when error raised.'\n",
    "    \n",
    "    try: \n",
    "        file = open(file_name)\n",
    "        \n",
    "        contents = file.read()\n",
    "        \n",
    "        file.close()\n",
    "        \n",
    "        print(len(contents))\n",
    "    \n",
    "    except:\n",
    "        print('File {} not found.' .format(file_name))\n",
    "    "
   ]
  },
  {
   "cell_type": "code",
   "execution_count": 32,
   "metadata": {},
   "outputs": [
    {
     "name": "stdout",
     "output_type": "stream",
     "text": [
      "358\n"
     ]
    }
   ],
   "source": [
    ">>> file_length('midterm.py')"
   ]
  },
  {
   "cell_type": "code",
   "execution_count": 33,
   "metadata": {},
   "outputs": [
    {
     "name": "stdout",
     "output_type": "stream",
     "text": [
      "File idterm.py not found.\n"
     ]
    }
   ],
   "source": [
    ">>> file_length('idterm.py')"
   ]
  },
  {
   "cell_type": "markdown",
   "metadata": {},
   "source": [
    "### \\*Answer-3\\*"
   ]
  },
  {
   "cell_type": "markdown",
   "metadata": {},
   "source": [
    "###### Part-1"
   ]
  },
  {
   "cell_type": "code",
   "execution_count": 1,
   "metadata": {},
   "outputs": [],
   "source": [
    "class Marsupial:\n",
    "   \n",
    "    def __init__(self):\n",
    "        self.pouch = []\n",
    "        \n",
    "    def put_in_pouch(self, content):\n",
    "        self.pouch.append(content)             # To add contents.\n",
    "        \n",
    "    def pouch_contents(self):\n",
    "        return(self.pouch)"
   ]
  },
  {
   "cell_type": "code",
   "execution_count": 34,
   "metadata": {},
   "outputs": [
    {
     "data": {
      "text/plain": [
       "['doll', 'firetruck', 'kitten']"
      ]
     },
     "execution_count": 34,
     "metadata": {},
     "output_type": "execute_result"
    }
   ],
   "source": [
    ">>> m = Marsupial()\n",
    ">>> m.put_in_pouch('doll')\n",
    ">>> m.put_in_pouch('firetruck')\n",
    ">>> m.put_in_pouch('kitten')           # Adding into 'pouch_contents'. \n",
    ">>> m.pouch_contents()"
   ]
  },
  {
   "cell_type": "markdown",
   "metadata": {},
   "source": [
    "###### Part-2"
   ]
  },
  {
   "cell_type": "code",
   "execution_count": 35,
   "metadata": {},
   "outputs": [],
   "source": [
    "class Marsupial:\n",
    "   \n",
    "    def __init__(self):\n",
    "        self.pouch = []\n",
    "        \n",
    "    def put_in_pouch(self, content):\n",
    "        self.pouch.append(content)\n",
    "        \n",
    "    def pouch_contents(self):\n",
    "        return(self.pouch)\n",
    "\n",
    "class Marsupial:\n",
    "   \n",
    "    def __init__(self):\n",
    "        self.pouch = []\n",
    "        \n",
    "    def put_in_pouch(self, content):\n",
    "        self.pouch.append(content)\n",
    "        \n",
    "    def pouch_contents(self):\n",
    "        return(self.pouch)\n",
    "\n",
    "class Kangaroo(Marsupial):                   # Making \"Kangaroo\" as a sub class of \"Marsupial\"\n",
    "    \n",
    "    def __init__(self, x, y):\n",
    "        super().__init__()\n",
    "        self.x = x\n",
    "        self.y = y\n",
    "    \n",
    "    def jump(self, x, y):                    # Change coordinates.\n",
    "        self.x += x\n",
    "        self.y += y\n",
    "    \n",
    "    def __str__(self):\n",
    "        return \"I am a Kangaroo located at coordinates ({},{})\".format(self.x, self.y)"
   ]
  },
  {
   "cell_type": "code",
   "execution_count": 36,
   "metadata": {},
   "outputs": [
    {
     "name": "stdout",
     "output_type": "stream",
     "text": [
      "I am a Kangaroo located at coordinates (0,0)\n"
     ]
    }
   ],
   "source": [
    ">>> k = Kangaroo(0,0)\n",
    ">>> print(k)"
   ]
  },
  {
   "cell_type": "code",
   "execution_count": 37,
   "metadata": {},
   "outputs": [
    {
     "name": "stdout",
     "output_type": "stream",
     "text": [
      "I am a Kangaroo located at coordinates (3,0)\n"
     ]
    }
   ],
   "source": [
    ">>> k.jump(1,0)\n",
    ">>> k.jump(1,0)\n",
    ">>> k.jump(1,0)\n",
    ">>> print(k)"
   ]
  },
  {
   "cell_type": "markdown",
   "metadata": {},
   "source": [
    "### \\*Answer-4\\*"
   ]
  },
  {
   "cell_type": "code",
   "execution_count": 31,
   "metadata": {},
   "outputs": [],
   "source": [
    "from tkinter import *\n",
    "root = Tk()\n",
    "\n",
    "\n",
    "\n",
    "class Mortgage(Frame):\n",
    "    'Left side of the GUI i.e. Entires'\n",
    "\n",
    "    def __init__(self, master):\n",
    "        \n",
    "        Frame.__init__(self, master)\n",
    "        'For Loan Amount button'\n",
    "        labelLoan = Label(self,padx = 15,text= 'Loan Amount:')\n",
    "        labelLoan.grid(row = 1, column = 0, columnspan = 4 )\n",
    "        entryLoan = Entry(self)       \n",
    "        entryLoan.grid(row = 1, column = 4, columnspan = 4)\n",
    "\n",
    "\n",
    "        'For Interest Rate button'\n",
    "        labelRate = Label(self,padx = 15,text= 'Interest Rate:')        \n",
    "        labelRate.grid(row = 2, column = 0, columnspan = 4)        \n",
    "        entryRate = Entry(self)        \n",
    "        entryRate.grid(row = 2, column = 4, columnspan = 4)\n",
    "\n",
    "\n",
    "        'For Loan Terms button'\n",
    "        labelLoanTerm = Label(self,padx = 15,text= 'Loan Terms:')\n",
    "        labelLoanTerm.grid(row = 3, column = 0, columnspan = 4)\n",
    "        entryLoanTerm = Entry(self)\n",
    "        entryLoanTerm.grid(row = 3, column = 4, columnspan = 4)\n",
    "\n",
    "\n",
    "        'For Compute Mortgage button'\n",
    "        buttonCoMo = Button(self,padx = 15,text= 'Compute Mortgage')\n",
    "        buttonCoMo.grid(row = 4, column = 0, columnspan = 4)\n",
    "        entryCoMo = Entry(self)\n",
    "        entryCoMo.grid(row = 4, column = 4, columnspan = 4)\n",
    "        \n",
    "class Calculator(Frame):\n",
    "    'Right side of the GUI i.e. Calculator'\n",
    "\n",
    "    def __init__(self, master):\n",
    "        \n",
    "        Frame.__init__(self, master)\n",
    "        \n",
    "        entryLoan = Entry(self)\n",
    "        entryLoan.grid(row = 0, column = 0, columnspan = 4)\n",
    "\n",
    "        numbers = [['MC',  'M+', 'M-', 'MR'],\n",
    "                   ['C', '\\u221A','x\\u00b2','+'],\n",
    "                   ['7','8','9','-'],\n",
    "                   ['4', '5','6','*'],\n",
    "                   ['1','2', '3', '/'],\n",
    "                   ['0', '.', '+-', '=']]\n",
    "        \n",
    "        for r in range(6):\n",
    "            \n",
    "            for c in range(4):\n",
    "            \n",
    "                button = Button(self,padx = 10,width = 5,text = numbers[r][c])\n",
    "                \n",
    "                button.grid(row = r+1, column = c)\n",
    "                \n",
    "mortgage = Mortgage(root)\n",
    "mortgage.pack(side = LEFT)\n",
    "\n",
    "calculator = Calculator(root)\n",
    "calculator.pack(side = RIGHT)\n",
    "\n",
    "\n",
    "root.mainloop()"
   ]
  },
  {
   "cell_type": "markdown",
   "metadata": {},
   "source": [
    "### \\*Answer-5\\*"
   ]
  },
  {
   "cell_type": "code",
   "execution_count": 10,
   "metadata": {},
   "outputs": [],
   "source": [
    "def collatz(x): \n",
    "    'Program to write collatz sequence.'\n",
    "    while x != 1: \n",
    "        print(x, end = '\\n') \n",
    "  \n",
    "        if  x & 1:                    # if x is 'odd'\n",
    "            x = 3 * x + 1\n",
    "\n",
    "        else: \n",
    "            x = x // 2               # if x is 'even'\n",
    " \n",
    "    print(x)"
   ]
  },
  {
   "cell_type": "code",
   "execution_count": 11,
   "metadata": {},
   "outputs": [
    {
     "name": "stdout",
     "output_type": "stream",
     "text": [
      "1\n"
     ]
    }
   ],
   "source": [
    "collatz(1)"
   ]
  },
  {
   "cell_type": "code",
   "execution_count": 12,
   "metadata": {},
   "outputs": [
    {
     "name": "stdout",
     "output_type": "stream",
     "text": [
      "10\n",
      "5\n",
      "16\n",
      "8\n",
      "4\n",
      "2\n",
      "1\n"
     ]
    }
   ],
   "source": [
    "collatz(10)"
   ]
  },
  {
   "cell_type": "markdown",
   "metadata": {},
   "source": [
    "### \\*Answer-6\\*"
   ]
  },
  {
   "cell_type": "code",
   "execution_count": 26,
   "metadata": {},
   "outputs": [],
   "source": [
    "def binary(x):\n",
    "    'Program which return binary value.'   \n",
    "\n",
    "    if x == 0: \n",
    "        return 0\n",
    "    \n",
    "    else: \n",
    "        return (x % 2 + 10 * binary(int(x // 2)))\n",
    "    \n",
    "    print(binary(x))"
   ]
  },
  {
   "cell_type": "code",
   "execution_count": 27,
   "metadata": {},
   "outputs": [
    {
     "data": {
      "text/plain": [
       "0"
      ]
     },
     "execution_count": 27,
     "metadata": {},
     "output_type": "execute_result"
    }
   ],
   "source": [
    "binary(0)"
   ]
  },
  {
   "cell_type": "code",
   "execution_count": 28,
   "metadata": {},
   "outputs": [
    {
     "data": {
      "text/plain": [
       "1"
      ]
     },
     "execution_count": 28,
     "metadata": {},
     "output_type": "execute_result"
    }
   ],
   "source": [
    "binary(1)"
   ]
  },
  {
   "cell_type": "code",
   "execution_count": 29,
   "metadata": {},
   "outputs": [
    {
     "data": {
      "text/plain": [
       "11"
      ]
     },
     "execution_count": 29,
     "metadata": {},
     "output_type": "execute_result"
    }
   ],
   "source": [
    "binary(3)"
   ]
  },
  {
   "cell_type": "code",
   "execution_count": 30,
   "metadata": {},
   "outputs": [
    {
     "data": {
      "text/plain": [
       "1001"
      ]
     },
     "execution_count": 30,
     "metadata": {},
     "output_type": "execute_result"
    }
   ],
   "source": [
    "binary(9)"
   ]
  },
  {
   "cell_type": "markdown",
   "metadata": {},
   "source": [
    "### \\*Answer-7\\*"
   ]
  },
  {
   "cell_type": "code",
   "execution_count": 94,
   "metadata": {},
   "outputs": [],
   "source": [
    "from html.parser import HTMLParser\n",
    "class HeadingParser(HTMLParser):\n",
    "    \n",
    "    def __init__(self):\n",
    "        HTMLParser.__init__(self)\n",
    "        self.heading_Tag=\"\"\n",
    "    \n",
    "    def Start_Tag(self,tag,attrs):\n",
    "        self.heading_Tag=tag\n",
    "        \n",
    "    def handle_data(self, data):\n",
    "        if(self.heading_Tag==\"h1\"):\n",
    "            print(data)\n",
    "            self.heading_Tag=\"\"\n",
    "            \n",
    "        elif(self.heading_Tag==\"h2\"):\n",
    "            print(' ' *1,data)\n",
    "            self.heading_Tag=\"\"\n",
    "            \n",
    "        elif(self.heading_Tag==\"h3\"):\n",
    "            print(' ' * 2,data)\n",
    "            self.heading_Tag=\"\"\n",
    "            \n",
    "        elif(self.heading_Tag==\"h4\"):\n",
    "            print(' ' * 3,data)\n",
    "            self.heading_Tag=\"\"\n",
    "            \n",
    "        elif(self.heading_Tag==\"h5\"):\n",
    "            print(' ' * 4,data)\n",
    "            self.heading_Tag=\"\"\n",
    "            \n",
    "        elif(self.heading_Tag==\"h6\"):\n",
    "            print(' ' * 5,data)\n",
    "            self.heading_Tag=\"\"\n",
    "            "
   ]
  },
  {
   "cell_type": "code",
   "execution_count": 95,
   "metadata": {},
   "outputs": [
    {
     "name": "stdout",
     "output_type": "stream",
     "text": [
      "The World Wide Web Consortium\n",
      "  Who are the W3C members?\n",
      "  Who are the W3C team members?\n",
      "  Why should I join?\n",
      "  Activities of the W3C\n",
      "  Ways to get involved\n"
     ]
    }
   ],
   "source": [
    ">>> infile = open('w3c.html')\n",
    ">>> content = infile.read()\n",
    ">>> infile.close()\n",
    ">>> hp = HeadingParser()\n",
    ">>> hp.feed(content)"
   ]
  },
  {
   "cell_type": "markdown",
   "metadata": {},
   "source": [
    "### \\*Answer-8\\*"
   ]
  },
  {
   "cell_type": "code",
   "execution_count": null,
   "metadata": {},
   "outputs": [],
   "source": [
    "from urllib.request import urlopen\n",
    "def getLink(url)"
   ]
  },
  {
   "cell_type": "markdown",
   "metadata": {},
   "source": [
    "### \\*Answer-9\\*"
   ]
  },
  {
   "cell_type": "code",
   "execution_count": 28,
   "metadata": {},
   "outputs": [],
   "source": [
    "import sqlite3\n",
    "a = sqlite3.connect('weather.db')\n",
    "b = a.cursor()\n",
    "b.execute(\"CREATE TABLE WD (City text,Country text,Season text,Temperature float,Rainfall float)\")\n",
    "b.execute(\"INSERT INTO WD VALUES ('Mumbai', 'India', 'Winter', 24.8, 5.9)\")\n",
    "b.execute(\"INSERT INTO WD VALUES ('Mumbai', 'India', 'Spring', 28.4, 16.2)\")\n",
    "b.execute(\"INSERT INTO WD VALUES ('Mumbai', 'India', 'Summer', 27.9, 1549.4)\")\n",
    "b.execute(\"INSERT INTO WD VALUES ('Mumbai', 'India', 'Fall', 27.6, 346.0)\")\n",
    "b.execute(\"INSERT INTO WD VALUES ('London', 'United Kingdom', 'Winter', 4.2, 207.7)\")\n",
    "b.execute(\"INSERT INTO WD VALUES ('London', 'United Kingdom', 'Spring', 8.3, 169.6)\")\n",
    "b.execute(\"INSERT INTO WD VALUES ('London', 'United Kingdom', 'Summer', 15.7, 157.0)\")\n",
    "b.execute(\"INSERT INTO WD VALUES ('London', 'United Kingdom', 'Fall', 10.4, 218.5)\")\n",
    "b.execute(\"INSERT INTO WD VALUES ('Cairo', 'Egypt', 'Winter', 13.6, 16.5)\")\n",
    "b.execute(\"INSERT INTO WD VALUES ('Cairo', 'Egypt', 'Spring', 20.7, 6.5)\")\n",
    "b.execute(\"INSERT INTO WD VALUES ('Cairo', 'Egypt', 'Summer', 27.7, 0.1)\")\n",
    "b.execute(\"INSERT INTO WD VALUES ('Cairo', 'Egypt', 'Fall', 22.2, 4.5)\")\n",
    "a.commit()\n",
    "a.close()"
   ]
  },
  {
   "cell_type": "markdown",
   "metadata": {},
   "source": [
    "#### a: All temperature data "
   ]
  },
  {
   "cell_type": "code",
   "execution_count": 30,
   "metadata": {},
   "outputs": [
    {
     "data": {
      "text/plain": [
       "[(24.8,),\n",
       " (28.4,),\n",
       " (27.9,),\n",
       " (27.6,),\n",
       " (4.2,),\n",
       " (8.3,),\n",
       " (15.7,),\n",
       " (10.4,),\n",
       " (13.6,),\n",
       " (20.7,),\n",
       " (27.7,),\n",
       " (22.2,)]"
      ]
     },
     "execution_count": 30,
     "metadata": {},
     "output_type": "execute_result"
    }
   ],
   "source": [
    "import sqlite3\n",
    "a = sqlite3.connect('weather.db')\n",
    "b = con.cursor()\n",
    "b.execute('SELECT Temperature FROM WD')\n",
    "b.fetchall()"
   ]
  },
  {
   "cell_type": "markdown",
   "metadata": {},
   "source": [
    "#### b: All cities but without repetition"
   ]
  },
  {
   "cell_type": "code",
   "execution_count": 16,
   "metadata": {},
   "outputs": [
    {
     "data": {
      "text/plain": [
       "[('Mumbai',), ('London',), ('Cairo',)]"
      ]
     },
     "execution_count": 16,
     "metadata": {},
     "output_type": "execute_result"
    }
   ],
   "source": [
    "import sqlite3\n",
    "a = sqlite3.connect('weather.db')\n",
    "b = a.cursor()\n",
    "b.execute('SELECT DISTINCT City FROM WD')\n",
    "b.fetchall()"
   ]
  },
  {
   "cell_type": "markdown",
   "metadata": {},
   "source": [
    "#### c: All cities but without repetition"
   ]
  },
  {
   "cell_type": "code",
   "execution_count": 17,
   "metadata": {},
   "outputs": [
    {
     "data": {
      "text/plain": [
       "[('Mumbai', 'India', 'Winter', 24.8, 5.9),\n",
       " ('Mumbai', 'India', 'Spring', 28.4, 16.2),\n",
       " ('Mumbai', 'India', 'Summer', 27.9, 1549.4),\n",
       " ('Mumbai', 'India', 'Fall', 27.6, 346.0)]"
      ]
     },
     "execution_count": 17,
     "metadata": {},
     "output_type": "execute_result"
    }
   ],
   "source": [
    "import sqlite3\n",
    "a = sqlite3.connect('weather.db')\n",
    "b = a.cursor()\n",
    "b.execute(\"SELECT * FROM WD WHERE Country = 'India'\")\n",
    "b.fetchall()"
   ]
  },
  {
   "cell_type": "markdown",
   "metadata": {},
   "source": [
    "#### d: All the Fall records"
   ]
  },
  {
   "cell_type": "code",
   "execution_count": 18,
   "metadata": {},
   "outputs": [
    {
     "data": {
      "text/plain": [
       "[('Mumbai', 'India', 'Fall', 27.6, 346.0),\n",
       " ('London', 'United Kingdom', 'Fall', 10.4, 218.5),\n",
       " ('Cairo', 'Egypt', 'Fall', 22.2, 4.5)]"
      ]
     },
     "execution_count": 18,
     "metadata": {},
     "output_type": "execute_result"
    }
   ],
   "source": [
    "import sqlite3\n",
    "a = sqlite3.connect('weather.db')\n",
    "b = a.cursor()\n",
    "b.execute(\"SELECT * FROM WD WHERE Season = 'Fall'\")\n",
    "b.fetchall()"
   ]
  },
  {
   "cell_type": "markdown",
   "metadata": {},
   "source": [
    "#### e: The city, country, and season for which the average rainfall is between 200 and 400 millimeters"
   ]
  },
  {
   "cell_type": "code",
   "execution_count": 19,
   "metadata": {},
   "outputs": [
    {
     "data": {
      "text/plain": [
       "[('Mumbai', 'India', 'Fall', 346.0),\n",
       " ('London', 'United Kingdom', 'Winter', 207.7),\n",
       " ('London', 'United Kingdom', 'Fall', 218.5)]"
      ]
     },
     "execution_count": 19,
     "metadata": {},
     "output_type": "execute_result"
    }
   ],
   "source": [
    "import sqlite3\n",
    "a = sqlite3.connect('weather.db')\n",
    "b = a.cursor()\n",
    "b.execute(\"SELECT City,Country,Season,Rainfall FROM WD WHERE Rainfall BETWEEN 200 AND 400\")\n",
    "b.fetchall()"
   ]
  },
  {
   "cell_type": "markdown",
   "metadata": {},
   "source": [
    "#### f:\tThe city and country for which the average Fall temperature is above 20 degrees, in increasing temperature order"
   ]
  },
  {
   "cell_type": "code",
   "execution_count": 20,
   "metadata": {},
   "outputs": [
    {
     "data": {
      "text/plain": [
       "[('Cairo', 'Egypt'), ('Mumbai', 'India')]"
      ]
     },
     "execution_count": 20,
     "metadata": {},
     "output_type": "execute_result"
    }
   ],
   "source": [
    "import sqlite3\n",
    "a = sqlite3.connect('weather.db')\n",
    "b = a.cursor()\n",
    "b.execute(\"SELECT City,Country FROM WD WHERE Season='Fall' AND Temperature >= 20 ORDER BY Temperature ASC\")\n",
    "b.fetchall()"
   ]
  },
  {
   "cell_type": "markdown",
   "metadata": {},
   "source": [
    "#### g: The total annual rainfall for Cairo."
   ]
  },
  {
   "cell_type": "code",
   "execution_count": 21,
   "metadata": {},
   "outputs": [
    {
     "data": {
      "text/plain": [
       "[(27.6,)]"
      ]
     },
     "execution_count": 21,
     "metadata": {},
     "output_type": "execute_result"
    }
   ],
   "source": [
    "import sqlite3\n",
    "a = sqlite3.connect('weather.db')\n",
    "b = a.cursor()\n",
    "b.execute(\"SELECT SUM(Rainfall) FROM WD WHERE City = 'Cairo'\")\n",
    "b.fetchall()"
   ]
  },
  {
   "cell_type": "markdown",
   "metadata": {},
   "source": [
    "####  h: The total rainfall for each season"
   ]
  },
  {
   "cell_type": "code",
   "execution_count": 29,
   "metadata": {},
   "outputs": [
    {
     "data": {
      "text/plain": [
       "[(2697.8999999999996,)]"
      ]
     },
     "execution_count": 29,
     "metadata": {},
     "output_type": "execute_result"
    }
   ],
   "source": [
    "import sqlite3\n",
    "a = sqlite3.connect('weather.db')\n",
    "b = a.cursor()\n",
    "b.execute(\"SELECT SUM(Rainfall) FROM WD\")\n",
    "b.fetchall()"
   ]
  },
  {
   "cell_type": "markdown",
   "metadata": {},
   "source": [
    "### \\*Answer-10\\*"
   ]
  },
  {
   "cell_type": "code",
   "execution_count": 79,
   "metadata": {},
   "outputs": [],
   "source": [
    "def Capital(words):\n",
    "    'Convert into Capital Letters.'\n",
    "    for i in range(len(words)):\n",
    "        words[i]=words[i].upper()\n",
    "    return words\n",
    "\n",
    "def Small(words):\n",
    "    'Convert into Small Letters.'\n",
    "    for i in range(len(words)):\n",
    "        words[i]=words[i].lower()\n",
    "    return words\n",
    "\n",
    "def Length(words):\n",
    "    'Length of each word as a list.'\n",
    "    list=[]\n",
    "    for i in range(len(words)):\n",
    "        list.append(len(words[i]))\n",
    "    return list\n",
    "\n",
    "def Capital_Small_Length(words):\n",
    "    'The list containing a list for every word of list words, where each list contains the word in uppercase and lowercase and the length of the word'\n",
    "    list=[]\n",
    "    temp=[]\n",
    "    for i in range(len(words)):\n",
    "        temp.append(words[i].upper())\n",
    "        temp.append(words[i].lower())\n",
    "        temp.append(len(words[i]))\n",
    "        list.append(temp)\n",
    "        temp=[]\n",
    "    return list\n",
    "\n",
    "def new_List(words):\n",
    "    'the list of words in list words containing 4 or more characters.'\n",
    "    list=[]\n",
    "    for i in range(len(words)):\n",
    "        if len(words[i])>=4:       \n",
    "            list.append(words[i])\n",
    "    return list"
   ]
  },
  {
   "cell_type": "code",
   "execution_count": 80,
   "metadata": {},
   "outputs": [],
   "source": [
    ">>> words = ['The', 'quick', 'brown', 'fox', 'jumps', 'over', 'the', 'lazy', 'dog'] # List"
   ]
  },
  {
   "cell_type": "markdown",
   "metadata": {},
   "source": [
    "#### a. Convert into Capital"
   ]
  },
  {
   "cell_type": "code",
   "execution_count": 71,
   "metadata": {},
   "outputs": [
    {
     "name": "stdout",
     "output_type": "stream",
     "text": [
      "['THE', 'QUICK', 'BROWN', 'FOX', 'JUMPS', 'OVER', 'THE', 'LAZY', 'DOG']\n"
     ]
    }
   ],
   "source": [
    "print(Capital(words))"
   ]
  },
  {
   "cell_type": "markdown",
   "metadata": {},
   "source": [
    "#### b. Convert into Small"
   ]
  },
  {
   "cell_type": "code",
   "execution_count": 72,
   "metadata": {},
   "outputs": [
    {
     "name": "stdout",
     "output_type": "stream",
     "text": [
      "['the', 'quick', 'brown', 'fox', 'jumps', 'over', 'the', 'lazy', 'dog']\n"
     ]
    }
   ],
   "source": [
    "print(Small(words))"
   ]
  },
  {
   "cell_type": "markdown",
   "metadata": {},
   "source": [
    "#### c. Length of each word as a list"
   ]
  },
  {
   "cell_type": "code",
   "execution_count": 73,
   "metadata": {},
   "outputs": [
    {
     "name": "stdout",
     "output_type": "stream",
     "text": [
      "[3, 5, 5, 3, 5, 4, 3, 4, 3]\n"
     ]
    }
   ],
   "source": [
    "print(Length(words))"
   ]
  },
  {
   "cell_type": "markdown",
   "metadata": {},
   "source": [
    "#### d. The list containing a list for every word of list words, where each list contains the word in uppercase and lowercase and the length of the word."
   ]
  },
  {
   "cell_type": "code",
   "execution_count": 81,
   "metadata": {},
   "outputs": [
    {
     "name": "stdout",
     "output_type": "stream",
     "text": [
      "[['THE', 'the', 3], ['QUICK', 'quick', 5], ['BROWN', 'brown', 5], ['FOX', 'fox', 3], ['JUMPS', 'jumps', 5], ['OVER', 'over', 4], ['THE', 'the', 3], ['LAZY', 'lazy', 4], ['DOG', 'dog', 3]]\n"
     ]
    }
   ],
   "source": [
    "print(Capital_Small_Length(words))"
   ]
  },
  {
   "cell_type": "markdown",
   "metadata": {},
   "source": [
    "#### e. the list of words in list words containing 4 or more characters"
   ]
  },
  {
   "cell_type": "code",
   "execution_count": 82,
   "metadata": {},
   "outputs": [
    {
     "name": "stdout",
     "output_type": "stream",
     "text": [
      "['quick', 'brown', 'jumps', 'over', 'lazy']\n"
     ]
    }
   ],
   "source": [
    "print(new_List(words))"
   ]
  },
  {
   "cell_type": "code",
   "execution_count": null,
   "metadata": {},
   "outputs": [],
   "source": []
  }
 ],
 "metadata": {
  "kernelspec": {
   "display_name": "Python 3",
   "language": "python",
   "name": "python3"
  },
  "language_info": {
   "codemirror_mode": {
    "name": "ipython",
    "version": 3
   },
   "file_extension": ".py",
   "mimetype": "text/x-python",
   "name": "python",
   "nbconvert_exporter": "python",
   "pygments_lexer": "ipython3",
   "version": "3.8.3"
  }
 },
 "nbformat": 4,
 "nbformat_minor": 4
}
